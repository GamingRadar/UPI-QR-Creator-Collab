{
  "nbformat": 4,
  "nbformat_minor": 0,
  "metadata": {
    "colab": {
      "provenance": []
    },
    "kernelspec": {
      "name": "python3",
      "display_name": "Python 3"
    },
    "language_info": {
      "name": "python"
    }
  },
  "cells": [
    {
      "cell_type": "markdown",
      "source": [
        "**UPI QR Creator by Mr.Devashish Tambade.**\n",
        "\n",
        "---\n",
        "\n",
        "\n",
        "Do give me a  follow and connect... [linkdin](https://in.linkedin.com/in/devashish-tambade-228010196)"
      ],
      "metadata": {
        "id": "SquuVmohF2D8"
      }
    },
    {
      "cell_type": "code",
      "source": [
        "# Only one time setup : please only run this for first time\n",
        "!pip install qrcode[pil]\n"
      ],
      "metadata": {
        "colab": {
          "base_uri": "https://localhost:8080/"
        },
        "id": "XHMkD_Z79M4E",
        "outputId": "89002e92-c79d-4c11-ebff-0c8f98c51e2f"
      },
      "execution_count": 3,
      "outputs": [
        {
          "output_type": "stream",
          "name": "stdout",
          "text": [
            "Collecting qrcode[pil]\n",
            "  Downloading qrcode-7.4.2-py3-none-any.whl (46 kB)\n",
            "\u001b[?25l     \u001b[90m━━━━━━━━━━━━━━━━━━━━━━━━━━━━━━━━━━━━━━━━\u001b[0m \u001b[32m0.0/46.2 kB\u001b[0m \u001b[31m?\u001b[0m eta \u001b[36m-:--:--\u001b[0m\r\u001b[2K     \u001b[90m━━━━━━━━━━━━━━━━━━━━━━━━━━━━━━━━━━━━━━━━\u001b[0m \u001b[32m46.2/46.2 kB\u001b[0m \u001b[31m1.5 MB/s\u001b[0m eta \u001b[36m0:00:00\u001b[0m\n",
            "\u001b[?25hRequirement already satisfied: typing-extensions in /usr/local/lib/python3.10/dist-packages (from qrcode[pil]) (4.12.2)\n",
            "Collecting pypng (from qrcode[pil])\n",
            "  Downloading pypng-0.20220715.0-py3-none-any.whl (58 kB)\n",
            "\u001b[2K     \u001b[90m━━━━━━━━━━━━━━━━━━━━━━━━━━━━━━━━━━━━━━━━\u001b[0m \u001b[32m58.1/58.1 kB\u001b[0m \u001b[31m5.8 MB/s\u001b[0m eta \u001b[36m0:00:00\u001b[0m\n",
            "\u001b[?25hRequirement already satisfied: pillow>=9.1.0 in /usr/local/lib/python3.10/dist-packages (from qrcode[pil]) (9.4.0)\n",
            "Installing collected packages: pypng, qrcode\n",
            "Successfully installed pypng-0.20220715.0 qrcode-7.4.2\n"
          ]
        }
      ]
    },
    {
      "cell_type": "code",
      "execution_count": 9,
      "metadata": {
        "colab": {
          "base_uri": "https://localhost:8080/"
        },
        "id": "Vx8s-mnEzkty",
        "outputId": "4e641f31-3d7d-45af-b64a-893aa8a1c94d"
      },
      "outputs": [
        {
          "output_type": "stream",
          "name": "stdout",
          "text": [
            "Enter the Payee Name : Margret Shinde\n",
            "Enter the Payee ID (e.g., xxxxxxx@paytm): margret.shinde@phone.pe\n",
            "Enter the Currency (default is INR): \n",
            "Do you want to auto-download the QR code? (yes/no): no\n",
            "Payee Name: Margret Shinde\n",
            "Payee ID: margret.shinde@phone.pe\n",
            "Currency: INR\n",
            "Auto-Download QR Code: No\n"
          ]
        }
      ],
      "source": [
        "# Only one time setup : Input for Payee Name, Payee ID, Currency, and Auto-Download Toggle\n",
        "\n",
        "# Function to set up the initial details\n",
        "def setup_payee_details():\n",
        "    global payee_name, payee_id, currency, auto_download\n",
        "    payee_name = input(\"Enter the Payee Name : \")\n",
        "    payee_id = input(\"Enter the Payee ID (e.g., xxxxxxx@paytm): \")\n",
        "    currency = input(\"Enter the Currency (default is INR): \")\n",
        "    if not currency:\n",
        "        currency = 'INR'\n",
        "    auto_download = input(\"Do you want to auto-download the QR code? (yes/no): \").strip().lower() == 'yes'\n",
        "\n",
        "# Run the function to set up payee details\n",
        "setup_payee_details()\n",
        "\n",
        "# Display the entered details for confirmation\n",
        "print(f\"Payee Name: {payee_name}\")\n",
        "print(f\"Payee ID: {payee_id}\")\n",
        "print(f\"Currency: {currency}\")\n",
        "print(f\"Auto-Download QR Code: {'Yes' if auto_download else 'No'}\")\n",
        "\n",
        "\n"
      ]
    },
    {
      "cell_type": "code",
      "source": [
        "import qrcode\n",
        "from IPython.display import Image, display\n",
        "from google.colab import files\n",
        "\n",
        "# Reusable Cell : Input for Amount and Generate UPI Link\n",
        "\n",
        "# Function to generate the UPI QR\n",
        "def generate_upi_link(amount):\n",
        "    base_link = \"upi://pay\"\n",
        "    customized_link = f\"{base_link}?pa={payee_id}&pn={payee_name}&am={amount}&cu={currency}\"\n",
        "    return customized_link\n",
        "def generate_qr_code(link):\n",
        "    qr = qrcode.QRCode(\n",
        "        version=1,\n",
        "        error_correction=qrcode.constants.ERROR_CORRECT_L,\n",
        "        box_size=10,\n",
        "        border=4,\n",
        "    )\n",
        "    qr.add_data(link)\n",
        "    qr.make(fit=True)\n",
        "    img = qr.make_image(fill_color=\"black\", back_color=\"white\")\n",
        "    return img\n",
        "\n",
        "# Amount input\n",
        "amount = input(\"Enter the Amount (e.g., 999): \")\n",
        "\n",
        "new_upi_link = generate_upi_link(amount)\n",
        "qr_image = generate_qr_code(new_upi_link)\n",
        "\n",
        "# Save the QR code image\n",
        "qr_image_file = \"upi_qr_code.png\"\n",
        "qr_image.save(qr_image_file)\n",
        "\n",
        "display(Image(filename=qr_image_file))\n",
        "\n",
        "# Auto-download based on user input\n",
        "if auto_download:\n",
        "    files.download(qr_image_file)\n",
        "else:\n",
        "    print(\"You can download the QR code using the button in the next cell.\")\n",
        "\n",
        "\n"
      ],
      "metadata": {
        "colab": {
          "base_uri": "https://localhost:8080/",
          "height": 462
        },
        "id": "1fpkDm4Z8EF6",
        "outputId": "cc685ed1-6880-4542-bebf-dc5f9188f21d"
      },
      "execution_count": 10,
      "outputs": [
        {
          "name": "stdout",
          "output_type": "stream",
          "text": [
            "Enter the Amount (e.g., 999): 420\n"
          ]
        },
        {
          "output_type": "display_data",
          "data": {
            "image/png": "[encoded data removed]",
            "text/plain": [
              "<IPython.core.display.Image object>"
            ]
          },
          "metadata": {}
        },
        {
          "output_type": "stream",
          "name": "stdout",
          "text": [
            "You can download the QR code using the button in the next cell.\n"
          ]
        }
      ]
    },
    {
      "cell_type": "code",
      "source": [
        "from google.colab import files\n",
        "\n",
        "# A button to download the QR code image manually.\n",
        "def download_qr_code():\n",
        "    files.download(qr_image_file)\n",
        "\n",
        "if not auto_download:\n",
        "    download_qr_code()\n"
      ],
      "metadata": {
        "colab": {
          "base_uri": "https://localhost:8080/",
          "height": 17
        },
        "id": "wTYckNYmCq3M",
        "outputId": "5ee3ae61-6bd4-4e95-d4af-3d8946217cf5"
      },
      "execution_count": 11,
      "outputs": [
        {
          "output_type": "display_data",
          "data": {
            "text/plain": [
              "<IPython.core.display.Javascript object>"
            ],
            "application/javascript": [
              "\n",
              "    async function download(id, filename, size) {\n",
              "      if (!google.colab.kernel.accessAllowed) {\n",
              "        return;\n",
              "      }\n",
              "      const div = document.createElement('div');\n",
              "      const label = document.createElement('label');\n",
              "      label.textContent = `Downloading \"${filename}\": `;\n",
              "      div.appendChild(label);\n",
              "      const progress = document.createElement('progress');\n",
              "      progress.max = size;\n",
              "      div.appendChild(progress);\n",
              "      document.body.appendChild(div);\n",
              "\n",
              "      const buffers = [];\n",
              "      let downloaded = 0;\n",
              "\n",
              "      const channel = await google.colab.kernel.comms.open(id);\n",
              "      // Send a message to notify the kernel that we're ready.\n",
              "      channel.send({})\n",
              "\n",
              "      for await (const message of channel.messages) {\n",
              "        // Send a message to notify the kernel that we're ready.\n",
              "        channel.send({})\n",
              "        if (message.buffers) {\n",
              "          for (const buffer of message.buffers) {\n",
              "            buffers.push(buffer);\n",
              "            downloaded += buffer.byteLength;\n",
              "            progress.value = downloaded;\n",
              "          }\n",
              "        }\n",
              "      }\n",
              "      const blob = new Blob(buffers, {type: 'application/binary'});\n",
              "      const a = document.createElement('a');\n",
              "      a.href = window.URL.createObjectURL(blob);\n",
              "      a.download = filename;\n",
              "      div.appendChild(a);\n",
              "      a.click();\n",
              "      div.remove();\n",
              "    }\n",
              "  "
            ]
          },
          "metadata": {}
        },
        {
          "output_type": "display_data",
          "data": {
            "text/plain": [
              "<IPython.core.display.Javascript object>"
            ],
            "application/javascript": [
              "download(\"download_0dd22112-9f06-488f-b665-be0098cbdb9e\", \"upi_qr_code.png\", 859)"
            ]
          },
          "metadata": {}
        }
      ]
    }
  ]
}